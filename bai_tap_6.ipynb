{
 "cells": [
  {
   "cell_type": "code",
   "execution_count": 13,
   "id": "66685582",
   "metadata": {},
   "outputs": [
    {
     "name": "stdout",
     "output_type": "stream",
     "text": [
      "Nhập năm:2100\n",
      "Nhập tháng:4\n",
      "Tháng 4 của năm 2100 có 30 ngày\n"
     ]
    }
   ],
   "source": [
    "#Bài 6: tính ngày trong tháng và năm\n",
    "nam = int(input(\"Nhập năm:\"))\n",
    "thang = int(input(\"Nhập tháng:\"))\n",
    "if thang == 2:\n",
    "    if nam % 4 == 0 and nam % 400 == 0:\n",
    "        print(f\"Tháng {thang} của năm {nam} có 29 ngày\")\n",
    "    else:\n",
    "        print(f\"Tháng {thang} của năm {nam} có 28 ngày\")\n",
    "elif thang == 4 or thang == 6 or thang == 9 or thang == 11:\n",
    "    print(f\"Tháng {thang} của năm {nam} có 30 ngày\")\n",
    "else:\n",
    "    print(f\"Tháng {thang} của năm {nam} có 31 ngày\")"
   ]
  },
  {
   "cell_type": "code",
   "execution_count": null,
   "id": "2d2013cd",
   "metadata": {},
   "outputs": [],
   "source": []
  }
 ],
 "metadata": {
  "kernelspec": {
   "display_name": "Python 3",
   "language": "python",
   "name": "python3"
  }
 },
 "nbformat": 4,
 "nbformat_minor": 5
}
