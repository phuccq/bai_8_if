{
 "cells": [
  {
   "cell_type": "code",
   "execution_count": 6,
   "id": "beb89a9f",
   "metadata": {},
   "outputs": [
    {
     "name": "stdout",
     "output_type": "stream",
     "text": [
      "Đầu vào không hợp lệ\n"
     ]
    }
   ],
   "source": [
    "#Bài thực hành 1: Cộng hoặc gộp 2 biến cùng kiểu\n",
    "a = 5\n",
    "b = \"6\"\n",
    "if isinstance(a, int) and isinstance(b, int):\n",
    "    print(str(a)+str(b))\n",
    "elif isinstance(a, str) and isinstance(b, str):\n",
    "    print(int(a)+int(b))\n",
    "else:\n",
    "    print(\"Đầu vào không hợp lệ\")"
   ]
  },
  {
   "cell_type": "code",
   "execution_count": 9,
   "id": "71ffecb3",
   "metadata": {},
   "outputs": [
    {
     "name": "stdout",
     "output_type": "stream",
     "text": [
      "Nhập số a:6\n",
      "Nhập số b:3\n",
      "Nhập toán tử (cộng, trừ, nhân, chia):chia\n",
      "2.0\n"
     ]
    }
   ],
   "source": [
    "#Bài thực hành 2: Cộng trừ nhân chia\n",
    "a = int(input(\"Nhập số a:\"))\n",
    "b = int(input(\"Nhập số b:\"))\n",
    "toan_tu = input(\"Nhập toán tử (cộng, trừ, nhân, chia):\")\n",
    "ket_qua = 0\n",
    "if toan_tu.upper() == \"CỘNG\":\n",
    "    ket_qua = a + b\n",
    "elif toan_tu.upper() == \"TRỪ\":\n",
    "    ket_qua = a - b\n",
    "elif toan_tu.upper() == \"NHÂN\":\n",
    "    ket_qua = a * b\n",
    "elif toan_tu.upper() == \"CHIA\":\n",
    "    ket_qua = a / b\n",
    "print(ket_qua)"
   ]
  },
  {
   "cell_type": "code",
   "execution_count": 15,
   "id": "fdb72912",
   "metadata": {},
   "outputs": [
    {
     "name": "stdout",
     "output_type": "stream",
     "text": [
      "Nhập vào chuỗi 1:aaaaa\n",
      "Nhập vào chuỗi 2:bbbb\n",
      "Nhập ký tự cần đổi:3\n",
      "Chuỗi 1 mới là: bbbaa\n",
      "Chuỗi 2 mới là: aaab\n"
     ]
    }
   ],
   "source": [
    "#Bài thực hành 3: Hoãn đổi n ký tự đầu của 2 chuỗi\n",
    "str1 = input(\"Nhập vào chuỗi 1:\")\n",
    "str2 = input(\"Nhập vào chuỗi 2:\")\n",
    "n = int(input(\"Nhập ký tự cần đổi:\"))\n",
    "str1_moi = \"\"\n",
    "str2_moi = \"\"\n",
    "if n < 0:\n",
    "    print(\"n không hợp lệ\")\n",
    "else:\n",
    "    print(f\"Chuỗi 1 mới là: {str2[:n]+str1[n:]}\")\n",
    "    print(f\"Chuỗi 2 mới là: {str1[:n]+str2[n:]}\")"
   ]
  },
  {
   "cell_type": "code",
   "execution_count": 26,
   "id": "bae67b1f",
   "metadata": {},
   "outputs": [
    {
     "name": "stdout",
     "output_type": "stream",
     "text": [
      "Nhập chuỗi:string\n",
      "strly\n"
     ]
    }
   ],
   "source": [
    "#Bài thực hành 4: thêm \"ing\" vào chuỗi\n",
    "str = input(\"Nhập chuỗi:\")\n",
    "str_moi = \"\"\n",
    "if len(str) < 3:\n",
    "    str_moi = str\n",
    "elif str[-3:] == \"ing\":\n",
    "    str_moi = str[:-3] + \"ly\"\n",
    "else:\n",
    "    str_moi = str + \"ing\"\n",
    "print(str_moi)\n"
   ]
  },
  {
   "cell_type": "code",
   "execution_count": 50,
   "id": "0fc54d90",
   "metadata": {},
   "outputs": [
    {
     "name": "stdout",
     "output_type": "stream",
     "text": [
      "CGCAUG\n",
      "CGCAUG\n"
     ]
    }
   ],
   "source": [
    "#Bài thực hành 5: Hoán đổi ký tự\n",
    "#A->U T->A G->c C->G\n",
    "\n",
    "#Cách 1\n",
    "str = \"GCGTAC\"\n",
    "str = str.replace(\"A\",\"U\")\n",
    "str = str.replace(\"T\",\"A\")\n",
    "str = str.replace(\"G\",\"*\")\n",
    "str = str.replace(\"C\",\"G\")\n",
    "str = str.replace(\"*\",\"C\")\n",
    "print(str)\n",
    "\n",
    "#Cách 2\n",
    "str = \"GCGTAC\"\n",
    "mappTable = str.maketrans(\"ATGC\",\"UACG\")\n",
    "print(str.translate(mappTable))"
   ]
  },
  {
   "cell_type": "code",
   "execution_count": 91,
   "id": "2c7bad0c",
   "metadata": {},
   "outputs": [
    {
     "name": "stdout",
     "output_type": "stream",
     "text": [
      "Nhập số phút:100\n"
     ]
    },
    {
     "ename": "TypeError",
     "evalue": "'str' object is not callable",
     "output_type": "error",
     "traceback": [
      "\u001b[1;31m---------------------------------------------------------------------------\u001b[0m",
      "\u001b[1;31mTypeError\u001b[0m                                 Traceback (most recent call last)",
      "\u001b[1;32m<ipython-input-91-751d618fea41>\u001b[0m in \u001b[0;36m<module>\u001b[1;34m\u001b[0m\n\u001b[0;32m      9\u001b[0m     \u001b[1;32mif\u001b[0m \u001b[0mgio\u001b[0m \u001b[1;33m<\u001b[0m \u001b[1;36m10\u001b[0m\u001b[1;33m:\u001b[0m\u001b[1;33m\u001b[0m\u001b[1;33m\u001b[0m\u001b[0m\n\u001b[0;32m     10\u001b[0m         \u001b[0mht_gio\u001b[0m \u001b[1;33m=\u001b[0m \u001b[1;34m\"0\"\u001b[0m\u001b[1;33m\u001b[0m\u001b[1;33m\u001b[0m\u001b[0m\n\u001b[1;32m---> 11\u001b[1;33m         \u001b[0mtong\u001b[0m \u001b[1;33m=\u001b[0m \u001b[0mstr\u001b[0m\u001b[1;33m(\u001b[0m\u001b[0mgio\u001b[0m\u001b[1;33m)\u001b[0m\u001b[1;33m\u001b[0m\u001b[1;33m\u001b[0m\u001b[0m\n\u001b[0m\u001b[0;32m     12\u001b[0m         \u001b[1;32mif\u001b[0m \u001b[0mphut\u001b[0m \u001b[1;33m<\u001b[0m \u001b[1;36m10\u001b[0m\u001b[1;33m:\u001b[0m\u001b[1;33m\u001b[0m\u001b[1;33m\u001b[0m\u001b[0m\n\u001b[0;32m     13\u001b[0m             \u001b[0mht_phut\u001b[0m \u001b[1;33m=\u001b[0m \u001b[1;34m\"0\"\u001b[0m\u001b[1;33m\u001b[0m\u001b[1;33m\u001b[0m\u001b[0m\n",
      "\u001b[1;31mTypeError\u001b[0m: 'str' object is not callable"
     ]
    }
   ],
   "source": [
    "#Bài thực hành 6: Hiển thị thời gian\n",
    "p = int(input(\"Nhập số phút:\"))\n",
    "gio = int(p/60)\n",
    "phut = int(p%60)\n",
    "ht_gio = \"\"\n",
    "ht_phut = \"\"\n",
    "tong = \"\"\n",
    "if p < 10000:\n",
    "    if gio < 10:\n",
    "        ht_gio = \"0\"\n",
    "        tong = str(gio)\n",
    "        if phut < 10:\n",
    "            ht_phut = \"0\"\n",
    "            tong += str(phut)\n",
    "        else:\n",
    "            ht_phut = \"\"\n",
    "            tong = str(phut)[0]+str(phut)[1]\n",
    "    else:\n",
    "        ht_gio = \"\"\n",
    "        tong += str(gio)[0]+str(gio)[1]\n",
    "else:\n",
    "    print(\"N/A\")\n",
    "    tong = \"N/A\"\n",
    "print(f\"{ht_gio}{gio}:{ht_phut}{phut} và số tổng là {tong}\")"
   ]
  },
  {
   "cell_type": "code",
   "execution_count": 144,
   "id": "e5376ce2",
   "metadata": {},
   "outputs": [
    {
     "name": "stdout",
     "output_type": "stream",
     "text": [
      "Nhập vào chuỗi:tôi học không có tệ nha\n",
      "tôi học giỏi nha\n"
     ]
    }
   ],
   "source": [
    "#Bài thực hành 7: biến \"không....tệ\" thành \"giỏi\"\n",
    "chuoi = input(\"Nhập vào chuỗi:\")\n",
    "k = chuoi.find(\"không\")\n",
    "t = chuoi.find(\"tệ\")\n",
    "if k >= 0 and t >= 0 and k < t:    \n",
    "    giua = chuoi[k+6:t]\n",
    "    print(chuoi[:k]+\"giỏi\"+chuoi[t+2:])   \n",
    "else:\n",
    "    print(chuoi)\n",
    " "
   ]
  },
  {
   "cell_type": "code",
   "execution_count": null,
   "id": "08907673",
   "metadata": {},
   "outputs": [],
   "source": []
  },
  {
   "cell_type": "code",
   "execution_count": null,
   "id": "a6732f14",
   "metadata": {},
   "outputs": [],
   "source": []
  }
 ],
 "metadata": {
  "kernelspec": {
   "display_name": "Python 3",
   "language": "python",
   "name": "python3"
  },
  "language_info": {
   "codemirror_mode": {
    "name": "ipython",
    "version": 3
   },
   "file_extension": ".py",
   "mimetype": "text/x-python",
   "name": "python",
   "nbconvert_exporter": "python",
   "pygments_lexer": "ipython3",
   "version": "3.8.8"
  }
 },
 "nbformat": 4,
 "nbformat_minor": 5
}
