{
 "cells": [
  {
   "cell_type": "code",
   "execution_count": 6,
   "id": "6cf07837",
   "metadata": {},
   "outputs": [
    {
     "name": "stdout",
     "output_type": "stream",
     "text": [
      "Đầu vào không hợp lệ\n"
     ]
    }
   ],
   "source": [
    "#Bài thực hành 1: Cộng hoặc gộp 2 biến cùng kiểu\n",
    "a = 5\n",
    "b = \"6\"\n",
    "if isinstance(a, int) and isinstance(b, int):\n",
    "    print(str(a)+str(b))\n",
    "elif isinstance(a, str) and isinstance(b, str):\n",
    "    print(int(a)+int(b))\n",
    "else:\n",
    "    print(\"Đầu vào không hợp lệ\")"
   ]
  },
  {
   "cell_type": "code",
   "execution_count": 9,
   "id": "4601e0a5",
   "metadata": {},
   "outputs": [
    {
     "name": "stdout",
     "output_type": "stream",
     "text": [
      "Nhập số a:6\n",
      "Nhập số b:3\n",
      "Nhập toán tử (cộng, trừ, nhân, chia):chia\n",
      "2.0\n"
     ]
    }
   ],
   "source": [
    "#Bài thực hành 2: Cộng trừ nhân chia\n",
    "a = int(input(\"Nhập số a:\"))\n",
    "b = int(input(\"Nhập số b:\"))\n",
    "toan_tu = input(\"Nhập toán tử (cộng, trừ, nhân, chia):\")\n",
    "ket_qua = 0\n",
    "if toan_tu.upper() == \"CỘNG\":\n",
    "    ket_qua = a + b\n",
    "elif toan_tu.upper() == \"TRỪ\":\n",
    "    ket_qua = a - b\n",
    "elif toan_tu.upper() == \"NHÂN\":\n",
    "    ket_qua = a * b\n",
    "elif toan_tu.upper() == \"CHIA\":\n",
    "    ket_qua = a / b\n",
    "print(ket_qua)"
   ]
  },
  {
   "cell_type": "code",
   "execution_count": 15,
   "id": "e26b4997",
   "metadata": {},
   "outputs": [
    {
     "name": "stdout",
     "output_type": "stream",
     "text": [
      "Nhập vào chuỗi 1:aaaaa\n",
      "Nhập vào chuỗi 2:bbbb\n",
      "Nhập ký tự cần đổi:3\n",
      "Chuỗi 1 mới là: bbbaa\n",
      "Chuỗi 2 mới là: aaab\n"
     ]
    }
   ],
   "source": [
    "#Bài thực hành 3: Hoãn đổi n ký tự đầu của 2 chuỗi\n",
    "str1 = input(\"Nhập vào chuỗi 1:\")\n",
    "str2 = input(\"Nhập vào chuỗi 2:\")\n",
    "n = int(input(\"Nhập ký tự cần đổi:\"))\n",
    "str1_moi = \"\"\n",
    "str2_moi = \"\"\n",
    "if n < 0:\n",
    "    print(\"n không hợp lệ\")\n",
    "else:\n",
    "    print(f\"Chuỗi 1 mới là: {str2[:n]+str1[n:]}\")\n",
    "    print(f\"Chuỗi 2 mới là: {str1[:n]+str2[n:]}\")"
   ]
  },
  {
   "cell_type": "code",
   "execution_count": 26,
   "id": "a2f229ef",
   "metadata": {},
   "outputs": [
    {
     "name": "stdout",
     "output_type": "stream",
     "text": [
      "Nhập chuỗi:string\n",
      "strly\n"
     ]
    }
   ],
   "source": [
    "#Bài thực hành 4: thêm \"ing\" vào chuỗi\n",
    "str = input(\"Nhập chuỗi:\")\n",
    "str_moi = \"\"\n",
    "if len(str) < 3:\n",
    "    str_moi = str\n",
    "elif str[-3:] == \"ing\":\n",
    "    str_moi = str[:-3] + \"ly\"\n",
    "else:\n",
    "    str_moi = str + \"ing\"\n",
    "print(str_moi)\n"
   ]
  },
  {
   "cell_type": "code",
   "execution_count": 50,
   "id": "1878c714",
   "metadata": {},
   "outputs": [
    {
     "name": "stdout",
     "output_type": "stream",
     "text": [
      "CGCAUG\n",
      "CGCAUG\n"
     ]
    }
   ],
   "source": [
    "#Bài thực hành 5: Hoán đổi ký tự\n",
    "#A->U T->A G->c C->G\n",
    "\n",
    "#Cách 1\n",
    "str = \"GCGTAC\"\n",
    "str = str.replace(\"A\",\"U\")\n",
    "str = str.replace(\"T\",\"A\")\n",
    "str = str.replace(\"G\",\"*\")\n",
    "str = str.replace(\"C\",\"G\")\n",
    "str = str.replace(\"*\",\"C\")\n",
    "print(str)\n",
    "\n",
    "#Cách 2\n",
    "str = \"GCGTAC\"\n",
    "mappTable = str.maketrans(\"ATGC\",\"UACG\")\n",
    "print(str.translate(mappTable))"
   ]
  },
  {
   "cell_type": "code",
   "execution_count": null,
   "id": "9f281283",
   "metadata": {},
   "outputs": [],
   "source": []
  }
 ],
 "metadata": {
  "kernelspec": {
   "display_name": "Python 3",
   "language": "python",
   "name": "python3"
  },
  "language_info": {
   "codemirror_mode": {
    "name": "ipython",
    "version": 3
   },
   "file_extension": ".py",
   "mimetype": "text/x-python",
   "name": "python",
   "nbconvert_exporter": "python",
   "pygments_lexer": "ipython3",
   "version": "3.8.8"
  }
 },
 "nbformat": 4,
 "nbformat_minor": 5
}
