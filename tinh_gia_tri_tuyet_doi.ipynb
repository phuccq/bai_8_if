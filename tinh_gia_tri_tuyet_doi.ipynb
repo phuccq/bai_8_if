{
 "cells": [
  {
   "cell_type": "code",
   "execution_count": 5,
   "id": "49874aa2",
   "metadata": {},
   "outputs": [
    {
     "name": "stdout",
     "output_type": "stream",
     "text": [
      "Nhập vào 1 số nguyên:10\n",
      "10\n"
     ]
    }
   ],
   "source": [
    "#bài 1: Tính giá trị tuyệt đối\n",
    "x = int(input(\"Nhập vào 1 số nguyên:\"))\n",
    "if x >= 0:\n",
    "    print(x)\n",
    "else:\n",
    "    print(-x)"
   ]
  },
  {
   "cell_type": "code",
   "execution_count": 14,
   "id": "60d703ea",
   "metadata": {},
   "outputs": [
    {
     "name": "stdout",
     "output_type": "stream",
     "text": [
      "Nhập số a:0\n",
      "Nhập số b:2\n",
      "Phương trình vô nghiệm\n"
     ]
    }
   ],
   "source": [
    "#Bài 2: Giải phương trình bậc 1 ax+b=0\n",
    "a = int(input(\"Nhập số a:\"))\n",
    "b = int(input(\"Nhập số b:\"))\n",
    "if a == 0:\n",
    "    if b == 0:\n",
    "        print(\"Phương trình vô số nghiệm\")\n",
    "    else:\n",
    "        print(\"Phương trình vô nghiệm\")   \n",
    "else:\n",
    "    print(f\"Phương trình có nghiệm {-b/a}\")"
   ]
  },
  {
   "cell_type": "code",
   "execution_count": 21,
   "id": "79392fd6",
   "metadata": {},
   "outputs": [
    {
     "name": "stdout",
     "output_type": "stream",
     "text": [
      "Nhập số a:1\n",
      "Nhập số b:3\n",
      "Nhập số c:2\n",
      "Phương trình có nghiệm -1.0\n"
     ]
    }
   ],
   "source": [
    "#Bài 3: Giải phương trình bậc ax2 + bx + c = 0\n",
    "import math\n",
    "a = int(input(\"Nhập số a:\"))\n",
    "b = int(input(\"Nhập số b:\"))\n",
    "c = int(input(\"Nhập số c:\"))\n",
    "delta = b*b-4*a*c\n",
    "if delta < 0:\n",
    "        print(\"Phương trình vô nghiệm\")\n",
    "elif delta == 0:\n",
    "    print(f\"Phương trình có nghiệm kép x1 = x2 = {-b/(2*a)}\")\n",
    "else:\n",
    "    print(f\"Phương trình có nghiệm {(-b+math.sqrt(delta))/(2*a)}\")"
   ]
  },
  {
   "cell_type": "code",
   "execution_count": 27,
   "id": "25c3a177",
   "metadata": {},
   "outputs": [
    {
     "name": "stdout",
     "output_type": "stream",
     "text": [
      "Nhập số a:1.5\n"
     ]
    },
    {
     "ename": "ValueError",
     "evalue": "invalid literal for int() with base 10: '1.5'",
     "output_type": "error",
     "traceback": [
      "\u001b[1;31m---------------------------------------------------------------------------\u001b[0m",
      "\u001b[1;31mValueError\u001b[0m                                Traceback (most recent call last)",
      "\u001b[1;32m<ipython-input-27-1f39c4222daf>\u001b[0m in \u001b[0;36m<module>\u001b[1;34m\u001b[0m\n\u001b[0;32m      1\u001b[0m \u001b[1;31m#Bài 4: Tìm giá trị lớn nhất của 3 số\u001b[0m\u001b[1;33m\u001b[0m\u001b[1;33m\u001b[0m\u001b[1;33m\u001b[0m\u001b[0m\n\u001b[1;32m----> 2\u001b[1;33m \u001b[0ma\u001b[0m \u001b[1;33m=\u001b[0m \u001b[0mint\u001b[0m\u001b[1;33m(\u001b[0m\u001b[0minput\u001b[0m\u001b[1;33m(\u001b[0m\u001b[1;34m\"Nhập số a:\"\u001b[0m\u001b[1;33m)\u001b[0m\u001b[1;33m)\u001b[0m\u001b[1;33m\u001b[0m\u001b[1;33m\u001b[0m\u001b[0m\n\u001b[0m\u001b[0;32m      3\u001b[0m \u001b[0mb\u001b[0m \u001b[1;33m=\u001b[0m \u001b[0mint\u001b[0m\u001b[1;33m(\u001b[0m\u001b[0minput\u001b[0m\u001b[1;33m(\u001b[0m\u001b[1;34m\"Nhập số b:\"\u001b[0m\u001b[1;33m)\u001b[0m\u001b[1;33m)\u001b[0m\u001b[1;33m\u001b[0m\u001b[1;33m\u001b[0m\u001b[0m\n\u001b[0;32m      4\u001b[0m \u001b[0mc\u001b[0m \u001b[1;33m=\u001b[0m \u001b[0mint\u001b[0m\u001b[1;33m(\u001b[0m\u001b[0minput\u001b[0m\u001b[1;33m(\u001b[0m\u001b[1;34m\"Nhập số c:\"\u001b[0m\u001b[1;33m)\u001b[0m\u001b[1;33m)\u001b[0m\u001b[1;33m\u001b[0m\u001b[1;33m\u001b[0m\u001b[0m\n\u001b[0;32m      5\u001b[0m \u001b[1;32mif\u001b[0m \u001b[0ma\u001b[0m\u001b[1;33m>\u001b[0m\u001b[0mb\u001b[0m\u001b[1;33m:\u001b[0m\u001b[1;33m\u001b[0m\u001b[1;33m\u001b[0m\u001b[0m\n",
      "\u001b[1;31mValueError\u001b[0m: invalid literal for int() with base 10: '1.5'"
     ]
    }
   ],
   "source": [
    "#Bài 4: Tìm giá trị lớn nhất của 3 số\n",
    "a = int(input(\"Nhập số a:\"))\n",
    "b = int(input(\"Nhập số b:\"))\n",
    "c = int(input(\"Nhập số c:\"))\n",
    "if a>b:\n",
    "    if b>c:\n",
    "        print(f\"{a} là số lớn nhất\")\n",
    "    else:\n",
    "        if a>c:\n",
    "            print(f\"{a} là số lớn nhất\")\n",
    "        else:\n",
    "            print(f\"{c} là số lớn nhất\")\n",
    "elif b>c:\n",
    "    print(f\"{b} là số lớn nhất\")\n",
    "else:\n",
    "    print(f\"{c} là số lớn nhất\")\n",
    "            \n"
   ]
  },
  {
   "cell_type": "code",
   "execution_count": 32,
   "id": "78c1f539",
   "metadata": {},
   "outputs": [
    {
     "name": "stdout",
     "output_type": "stream",
     "text": [
      "Nhập vào số từ 1 đến 5:6\n",
      "Vui lòng nhập số từ 1 đến 5\n"
     ]
    }
   ],
   "source": [
    "#Bài 5: Cách đọc số\n",
    "so = int(input(\"Nhập vào số từ 1 đến 5:\"))\n",
    "if so == 1:\n",
    "    print(\"Một\")\n",
    "elif so == 2:\n",
    "    print(\"Hai\")\n",
    "elif so == 3:\n",
    "    print(\"Ba\")\n",
    "elif so == 4:\n",
    "    print(\"Bốn\")\n",
    "elif so == 5:\n",
    "    print(\"Năm\")\n",
    "else:\n",
    "    print(\"Vui lòng nhập số từ 1 đến 5\")"
   ]
  },
  {
   "cell_type": "code",
   "execution_count": 34,
   "id": "39d623f2",
   "metadata": {},
   "outputs": [
    {
     "name": "stdout",
     "output_type": "stream",
     "text": [
      "Nhập năm:2020\n",
      "Năm 2020 là năm nhuận\n"
     ]
    }
   ],
   "source": [
    "#Bài 7: Kiểm tra năm nhuận\n",
    "nam = int(input(\"Nhập năm:\"))\n",
    "if nam % 4 == 0:\n",
    "    print(f\"Năm {nam} là năm nhuận\")\n",
    "else:\n",
    "    print(f\"Năm {nam} không phải là năm nhuận\")"
   ]
  },
  {
   "cell_type": "code",
   "execution_count": 40,
   "id": "a8d54c10",
   "metadata": {},
   "outputs": [
    {
     "name": "stdout",
     "output_type": "stream",
     "text": [
      "Nhập năm:2020\n",
      "Nhập tháng:7\n",
      "Tháng 7 của năm 2020 có 31 ngày\n"
     ]
    }
   ],
   "source": [
    "#Bài 6: tính ngày trong tháng và năm\n",
    "nam = int(input(\"Nhập năm:\"))\n",
    "thang = int(input(\"Nhập tháng:\"))\n",
    "if thang == 2:\n",
    "    if nam % 4 == 0:\n",
    "        print(f\"Tháng {thang} của năm {nam} có 29 ngày\")\n",
    "    else:\n",
    "        print(f\"Tháng {thang} của năm {nam} có 28 ngày\")\n",
    "elif thang == 4 or thang == 6 or thang == 9 or thang == 11:\n",
    "    print(f\"Tháng {thang} của năm {nam} có 30 ngày\")\n",
    "else:\n",
    "    print(f\"Tháng {thang} của năm {nam} có 31 ngày\")"
   ]
  },
  {
   "cell_type": "code",
   "execution_count": 67,
   "id": "a7130f8a",
   "metadata": {},
   "outputs": [
    {
     "name": "stdout",
     "output_type": "stream",
     "text": [
      "Nhập năm:1989\n",
      "--Năm hợp lệ--\n",
      "Nhập tháng:9\n",
      "--Tháng hợp lệ--\n",
      "Nhập ngày:30\n",
      "--Ngày hợp lệ--\n",
      "Bạn vừa nhập ngày 30 tháng 9 năm 1989\n"
     ]
    }
   ],
   "source": [
    "#Bài 8: Kiểm tra ngày tháng năm có hợp lệ không\n",
    "nam = input(\"Nhập năm:\")\n",
    "if len(nam) != 4:\n",
    "    print(\"Năm không hợp lệ\")\n",
    "else:\n",
    "    print(\"--Năm hợp lệ--\")\n",
    "    nam = int(nam)\n",
    "    thang = int(input(\"Nhập tháng:\"))\n",
    "    if thang < 1 or thang > 12:\n",
    "        print(\"--Tháng không hợp lệ--\")\n",
    "    else:\n",
    "        print(\"--Tháng hợp lệ--\")\n",
    "        ngay = int(input(\"Nhập ngày:\"))\n",
    "        if nam % 4 != 0:\n",
    "            if thang == 2:\n",
    "                if ngay <1 or ngay > 29:\n",
    "                    print(\"--Ngày không hợp lệ--\")\n",
    "                else:\n",
    "                    print(\"--Ngày hợp lệ--\")\n",
    "                    print(f\"Bạn vừa nhập ngày {ngay} tháng {thang} năm {nam}\")\n",
    "            elif thang == 4 or thang == 6 or thang == 9 or thang == 11:\n",
    "                if ngay <1 or ngay > 30:\n",
    "                    print(\"--Ngày không hợp lệ--\")\n",
    "                else:\n",
    "                    print(\"--Ngày hợp lệ--\")\n",
    "                    print(f\"Bạn vừa nhập ngày {ngay} tháng {thang} năm {nam}\")\n",
    "            else:\n",
    "                if ngay <1 or ngay > 31:\n",
    "                    print(\"Ngày không hợp lệ:\")\n",
    "                else:\n",
    "                    print(\"Ngày hợp lệ\")\n",
    "                    print(f\"Bạn vừa nhập ngày {ngay} tháng {thang} năm {nam}\")\n"
   ]
  },
  {
   "cell_type": "code",
   "execution_count": null,
   "id": "519f488f",
   "metadata": {},
   "outputs": [],
   "source": []
  },
  {
   "cell_type": "code",
   "execution_count": null,
   "id": "42d053de",
   "metadata": {},
   "outputs": [],
   "source": []
  }
 ],
 "metadata": {
  "kernelspec": {
   "display_name": "Python 3",
   "language": "python",
   "name": "python3"
  },
  "language_info": {
   "codemirror_mode": {
    "name": "ipython",
    "version": 3
   },
   "file_extension": ".py",
   "mimetype": "text/x-python",
   "name": "python",
   "nbconvert_exporter": "python",
   "pygments_lexer": "ipython3",
   "version": "3.8.8"
  }
 },
 "nbformat": 4,
 "nbformat_minor": 5
}
