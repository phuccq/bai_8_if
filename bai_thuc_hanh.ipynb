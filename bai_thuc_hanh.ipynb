{
 "cells": [
  {
   "cell_type": "code",
   "execution_count": 165,
   "id": "1baafc3d",
   "metadata": {},
   "outputs": [
    {
     "ename": "TypeError",
     "evalue": "isinstance() arg 2 must be a type or tuple of types",
     "output_type": "error",
     "traceback": [
      "\u001b[1;31m---------------------------------------------------------------------------\u001b[0m",
      "\u001b[1;31mTypeError\u001b[0m                                 Traceback (most recent call last)",
      "\u001b[1;32m<ipython-input-165-c3c2a2450537>\u001b[0m in \u001b[0;36m<module>\u001b[1;34m\u001b[0m\n\u001b[0;32m      4\u001b[0m \u001b[1;32mif\u001b[0m \u001b[0misinstance\u001b[0m\u001b[1;33m(\u001b[0m\u001b[0ma\u001b[0m\u001b[1;33m,\u001b[0m \u001b[0mint\u001b[0m\u001b[1;33m)\u001b[0m \u001b[1;32mand\u001b[0m \u001b[0misinstance\u001b[0m\u001b[1;33m(\u001b[0m\u001b[0mb\u001b[0m\u001b[1;33m,\u001b[0m \u001b[0mint\u001b[0m\u001b[1;33m)\u001b[0m\u001b[1;33m:\u001b[0m\u001b[1;33m\u001b[0m\u001b[1;33m\u001b[0m\u001b[0m\n\u001b[0;32m      5\u001b[0m     \u001b[0mprint\u001b[0m\u001b[1;33m(\u001b[0m\u001b[0mstr\u001b[0m\u001b[1;33m(\u001b[0m\u001b[0ma\u001b[0m\u001b[1;33m)\u001b[0m\u001b[1;33m+\u001b[0m\u001b[0mstr\u001b[0m\u001b[1;33m(\u001b[0m\u001b[0mb\u001b[0m\u001b[1;33m)\u001b[0m\u001b[1;33m)\u001b[0m\u001b[1;33m\u001b[0m\u001b[1;33m\u001b[0m\u001b[0m\n\u001b[1;32m----> 6\u001b[1;33m \u001b[1;32melif\u001b[0m \u001b[0misinstance\u001b[0m\u001b[1;33m(\u001b[0m\u001b[0ma\u001b[0m\u001b[1;33m,\u001b[0m \u001b[0mstr\u001b[0m\u001b[1;33m)\u001b[0m \u001b[1;32mand\u001b[0m \u001b[0misinstance\u001b[0m\u001b[1;33m(\u001b[0m\u001b[0mb\u001b[0m\u001b[1;33m,\u001b[0m \u001b[0mstr\u001b[0m\u001b[1;33m)\u001b[0m\u001b[1;33m:\u001b[0m\u001b[1;33m\u001b[0m\u001b[1;33m\u001b[0m\u001b[0m\n\u001b[0m\u001b[0;32m      7\u001b[0m     \u001b[0mprint\u001b[0m\u001b[1;33m(\u001b[0m\u001b[0mint\u001b[0m\u001b[1;33m(\u001b[0m\u001b[0ma\u001b[0m\u001b[1;33m)\u001b[0m\u001b[1;33m+\u001b[0m\u001b[0mint\u001b[0m\u001b[1;33m(\u001b[0m\u001b[0mb\u001b[0m\u001b[1;33m)\u001b[0m\u001b[1;33m)\u001b[0m\u001b[1;33m\u001b[0m\u001b[1;33m\u001b[0m\u001b[0m\n\u001b[0;32m      8\u001b[0m \u001b[1;32melse\u001b[0m\u001b[1;33m:\u001b[0m\u001b[1;33m\u001b[0m\u001b[1;33m\u001b[0m\u001b[0m\n",
      "\u001b[1;31mTypeError\u001b[0m: isinstance() arg 2 must be a type or tuple of types"
     ]
    }
   ],
   "source": [
    "#Bài thực hành 1: Cộng hoặc gộp 2 biến cùng kiểu\n",
    "a = \"5\"\n",
    "b = \"6\"\n",
    "if isinstance(a, int) and isinstance(b, int):\n",
    "    print(str(a)+str(b))\n",
    "elif isinstance(a, str) and isinstance(b, str):\n",
    "    print(int(a)+int(b))\n",
    "else:\n",
    "    print(\"Đầu vào không hợp lệ\")"
   ]
  },
  {
   "cell_type": "code",
   "execution_count": 151,
   "id": "e9610dfc",
   "metadata": {},
   "outputs": [
    {
     "name": "stdout",
     "output_type": "stream",
     "text": [
      "Nhập số a:26\n",
      "Nhập số b:2\n",
      "Nhập toán tử (cộng, trừ, nhân, chia):chia\n",
      "13.0\n"
     ]
    }
   ],
   "source": [
    "#Bài thực hành 2: Cộng trừ nhân chia\n",
    "a = int(input(\"Nhập số a:\"))\n",
    "b = int(input(\"Nhập số b:\"))\n",
    "toan_tu = input(\"Nhập toán tử (cộng, trừ, nhân, chia):\")\n",
    "ket_qua = 0\n",
    "if toan_tu.upper() == \"CỘNG\":\n",
    "    ket_qua = a + b\n",
    "elif toan_tu.upper() == \"TRỪ\":\n",
    "    ket_qua = a - b\n",
    "elif toan_tu.upper() == \"NHÂN\":\n",
    "    ket_qua = a * b\n",
    "elif toan_tu.upper() == \"CHIA\":\n",
    "    ket_qua = a / b\n",
    "print(ket_qua)"
   ]
  },
  {
   "cell_type": "code",
   "execution_count": 161,
   "id": "8a942aa7",
   "metadata": {},
   "outputs": [
    {
     "name": "stdout",
     "output_type": "stream",
     "text": [
      "Nhập vào chuỗi 1:aaaaaa\n",
      "Nhập vào chuỗi 2:123456\n",
      "Nhập ký tự cần đổi:4\n",
      "Chuỗi 1 mới là: 1234aa\n",
      "Chuỗi 2 mới là: aaaa56\n"
     ]
    }
   ],
   "source": [
    "#Bài thực hành 3: Hoãn đổi n ký tự đầu của 2 chuỗi\n",
    "s1 = input(\"Nhập vào chuỗi 1:\")\n",
    "s2 = input(\"Nhập vào chuỗi 2:\")\n",
    "n = int(input(\"Nhập ký tự cần đổi:\"))\n",
    "if n < 0:\n",
    "    print(\"n không hợp lệ\")\n",
    "else:\n",
    "    print(f\"Chuỗi 1 mới là: {s2[:n]+s1[n:]}\")\n",
    "    print(f\"Chuỗi 2 mới là: {s1[:n]+s2[n:]}\")"
   ]
  },
  {
   "cell_type": "code",
   "execution_count": 153,
   "id": "1c577513",
   "metadata": {},
   "outputs": [
    {
     "name": "stdout",
     "output_type": "stream",
     "text": [
      "Nhập chuỗi:string\n",
      "strly\n"
     ]
    }
   ],
   "source": [
    "#Bài thực hành 4: thêm \"ing\" vào chuỗi\n",
    "s = input(\"Nhập chuỗi:\")\n",
    "s_moi = \"\"\n",
    "if len(s) < 3:\n",
    "    s_moi = str\n",
    "elif s[-3:] == \"ing\":\n",
    "    s_moi = s[:-3] + \"ly\"\n",
    "else:\n",
    "    s_moi = s + \"ing\"\n",
    "print(s_moi)\n"
   ]
  },
  {
   "cell_type": "code",
   "execution_count": 154,
   "id": "f9324ebe",
   "metadata": {},
   "outputs": [
    {
     "name": "stdout",
     "output_type": "stream",
     "text": [
      "CGCAUG\n",
      "CGCAUG\n"
     ]
    }
   ],
   "source": [
    "#Bài thực hành 5: Hoán đổi ký tự\n",
    "#A->U T->A G->c C->G\n",
    "\n",
    "#Cách 1\n",
    "s = \"GCGTAC\"\n",
    "s = s.replace(\"A\",\"U\")\n",
    "s = s.replace(\"T\",\"A\")\n",
    "s = s.replace(\"G\",\"*\")\n",
    "s = s.replace(\"C\",\"G\")\n",
    "s = s.replace(\"*\",\"C\")\n",
    "print(s)\n",
    "\n",
    "#Cách 2\n",
    "s = \"GCGTAC\"\n",
    "mappTable = s.maketrans(\"ATGC\",\"UACG\")\n",
    "print(s.translate(mappTable))"
   ]
  },
  {
   "cell_type": "code",
   "execution_count": 159,
   "id": "509d6eef",
   "metadata": {},
   "outputs": [
    {
     "name": "stdout",
     "output_type": "stream",
     "text": [
      "Nhập số phút:251\n",
      "04:11 và số tổng là 6\n"
     ]
    }
   ],
   "source": [
    "#Bài thực hành 6: Hiển thị thời gian\n",
    "p = int(input(\"Nhập số phút:\"))\n",
    "gio = int(p/60)\n",
    "phut = int(p%60)\n",
    "ht_gio = \"\"\n",
    "ht_phut = \"\"\n",
    "tong = 0\n",
    "if p < 10000:\n",
    "    if gio < 10:\n",
    "        ht_gio = \"0\"\n",
    "        tong = gio\n",
    "        if phut < 10:\n",
    "            ht_phut = \"0\"\n",
    "            tong += phut\n",
    "        else:\n",
    "            ht_phut = \"\"\n",
    "            tong += int(phut/10)+(phut-int(phut/10)*10)\n",
    "    else:\n",
    "        ht_gio = \"\"\n",
    "        tong = int(gio/10)+(gio-int(gio/10)*10)+int(phut/10)+(phut-int(phut/10)*10)\n",
    "    print(f\"{ht_gio}{gio}:{ht_phut}{phut} và số tổng là {tong}\")\n",
    "else:\n",
    "    print(\"N/A\")\n",
    "    tong = \"N/A\""
   ]
  },
  {
   "cell_type": "code",
   "execution_count": 156,
   "id": "bc47cafe",
   "metadata": {},
   "outputs": [
    {
     "name": "stdout",
     "output_type": "stream",
     "text": [
      "Nhập vào chuỗi:không anh tệ lắm\n",
      "giỏi lắm\n"
     ]
    }
   ],
   "source": [
    "#Bài thực hành 7: biến \"không....tệ\" thành \"giỏi\"\n",
    "chuoi = input(\"Nhập vào chuỗi:\")\n",
    "k = chuoi.find(\"không\")\n",
    "t = chuoi.find(\"tệ\")\n",
    "if k >= 0 and t >= 0 and k < t:    \n",
    "    giua = chuoi[k+6:t]\n",
    "    print(chuoi[:k]+\"giỏi\"+chuoi[t+2:])   \n",
    "else:\n",
    "    print(chuoi)\n",
    " "
   ]
  },
  {
   "cell_type": "code",
   "execution_count": null,
   "id": "a1311a13",
   "metadata": {},
   "outputs": [],
   "source": []
  },
  {
   "cell_type": "code",
   "execution_count": null,
   "id": "bd69c845",
   "metadata": {},
   "outputs": [],
   "source": []
  }
 ],
 "metadata": {
  "kernelspec": {
   "display_name": "Python 3",
   "language": "python",
   "name": "python3"
  },
  "language_info": {
   "codemirror_mode": {
    "name": "ipython",
    "version": 3
   },
   "file_extension": ".py",
   "mimetype": "text/x-python",
   "name": "python",
   "nbconvert_exporter": "python",
   "pygments_lexer": "ipython3",
   "version": "3.8.8"
  }
 },
 "nbformat": 4,
 "nbformat_minor": 5
}
